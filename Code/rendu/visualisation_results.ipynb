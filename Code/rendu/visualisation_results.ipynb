{
 "cells": [
  {
   "cell_type": "markdown",
   "metadata": {},
   "source": [
    "# Setup\n",
    "\n",
    "Utility section to read if you want to run this notebook.\n",
    "\n",
    "The packages needed to run this notebook are listed in the requirements.txt file.\n",
    "\n",
    "In a terminal, after having created a new envrionment, you can simply run:\n",
    "```\n",
    "pip install -r requirements.txt\n",
    "```\n",
    "\n",
    "For the notebook to work properly, you must place it in the same folder as the `model_torch.pth`, `utils.py`, `rossler_map.py` and `time_series.py` files.\n"
   ]
  },
  {
   "cell_type": "markdown",
   "metadata": {},
   "source": [
    "# Packages Imports"
   ]
  },
  {
   "cell_type": "code",
   "execution_count": 1,
   "metadata": {
    "colab": {
     "base_uri": "https://localhost:8080/",
     "height": 477
    },
    "id": "rIUzHeNiKixH",
    "outputId": "585d5385-f1d1-431c-e00f-9ad84f9d0cae"
   },
   "outputs": [],
   "source": [
    "import os\n",
    "from pathlib import Path\n",
    "\n",
    "import matplotlib.pyplot as plt\n",
    "import numpy as np\n",
    "import torch\n",
    "from rossler_map import RosslerMap\n",
    "from time_series import FinalModel\n",
    "from utils import Dynamics, Statistics, compute_traj, plot3D_traj"
   ]
  },
  {
   "cell_type": "markdown",
   "metadata": {},
   "source": [
    "# Load models"
   ]
  },
  {
   "cell_type": "markdown",
   "metadata": {},
   "source": [
    "Load trained model"
   ]
  },
  {
   "cell_type": "code",
   "execution_count": 2,
   "metadata": {},
   "outputs": [
    {
     "data": {
      "text/plain": [
       "FinalModel(\n",
       "  (layers): Sequential(\n",
       "    (0): Linear(in_features=3, out_features=15, bias=True)\n",
       "    (1): ReLU()\n",
       "    (2): Linear(in_features=15, out_features=15, bias=True)\n",
       "    (3): ReLU()\n",
       "    (4): Linear(in_features=15, out_features=15, bias=True)\n",
       "    (5): ReLU()\n",
       "    (6): Linear(in_features=15, out_features=3, bias=True)\n",
       "  )\n",
       ")"
      ]
     },
     "execution_count": 2,
     "metadata": {},
     "output_type": "execute_result"
    }
   ],
   "source": [
    "checkpoint_path = Path(\"model.pth\")\n",
    "\n",
    "trained_model = FinalModel(\n",
    "    hidden_size=15,\n",
    "    delta_t=0.001,\n",
    "    mean=np.array([0.1756855, -0.87666973, 0.87665153]),\n",
    "    std=np.array([5.11818165, 4.81725634, 2.88779878]),\n",
    ")\n",
    "\n",
    "trained_model.load_state_dict(torch.load(checkpoint_path))\n",
    "trained_model.normalize = False\n",
    "trained_model.eval()"
   ]
  },
  {
   "cell_type": "markdown",
   "metadata": {},
   "source": [
    "Load ground thruth model"
   ]
  },
  {
   "cell_type": "code",
   "execution_count": 3,
   "metadata": {},
   "outputs": [],
   "source": [
    "rossler_map_true = RosslerMap(delta_t=trained_model.delta_t)"
   ]
  },
  {
   "cell_type": "markdown",
   "metadata": {},
   "source": [
    "# Set hyperparameters for trajectories"
   ]
  },
  {
   "cell_type": "code",
   "execution_count": 4,
   "metadata": {
    "colab": {
     "base_uri": "https://localhost:8080/"
    },
    "id": "a7BQFxcri0IT",
    "outputId": "51ef85ec-d6ed-4a6a-880e-098a29e1e944"
   },
   "outputs": [],
   "source": [
    "TRAJECTORY_DUR = 1000\n",
    "nb_steps = int(TRAJECTORY_DUR // trained_model.delta_t)\n",
    "init_pos = [\n",
    "    0.01,\n",
    "    2.5,\n",
    "    3.07,\n",
    "]  # Init position different from the one used for training which was [-5.75, -1.6, 0.02]\n",
    "save_dir_path = checkpoint_path.parent"
   ]
  },
  {
   "cell_type": "markdown",
   "metadata": {},
   "source": [
    "## Compute trajectories"
   ]
  },
  {
   "cell_type": "code",
   "execution_count": null,
   "metadata": {},
   "outputs": [
    {
     "name": "stderr",
     "output_type": "stream",
     "text": [
      " 45%|████▌     | 454355/999998 [01:47<02:05, 4337.84it/s]"
     ]
    }
   ],
   "source": [
    "traj_pred, traj_true, time_list = compute_traj(trained_model, rossler_map_true, init_pos, nb_steps)\n",
    "np.save(os.path.join(save_dir_path, \"traj_pred_test.npy\"), traj_pred)\n",
    "np.save(os.path.join(save_dir_path, \"traj_true_test.npy\"), traj_true)\n",
    "np.save(os.path.join(save_dir_path, \"time_list_test.npy\"), time_list)"
   ]
  },
  {
   "cell_type": "markdown",
   "metadata": {},
   "source": [
    "## Load already computed trajectories"
   ]
  },
  {
   "cell_type": "code",
   "execution_count": null,
   "metadata": {},
   "outputs": [],
   "source": [
    "traj_pred = np.load(os.path.join(save_dir_path, \"traj_pred_test.npy\"))\n",
    "traj_true = np.load(os.path.join(save_dir_path, \"traj_true_test.npy\"))\n",
    "time_list = np.load(os.path.join(save_dir_path, \"time_list_test.npy\"))"
   ]
  },
  {
   "cell_type": "markdown",
   "metadata": {},
   "source": [
    "# Compute metrics"
   ]
  },
  {
   "cell_type": "markdown",
   "metadata": {},
   "source": [
    "## Statistics"
   ]
  },
  {
   "cell_type": "code",
   "execution_count": null,
   "metadata": {
    "colab": {
     "base_uri": "https://localhost:8080/",
     "height": 1000
    },
    "id": "TvbPhr-nsDFY",
    "outputId": "fbfa6350-31d7-402d-c965-faa516723661"
   },
   "outputs": [],
   "source": [
    "stats = Statistics(wandb_logger=None, ts_n=100000)\n",
    "stats.add_traj(traj_true=traj_true, traj_pred=traj_pred, time_list=time_list)\n",
    "stats.plot_all()"
   ]
  },
  {
   "cell_type": "markdown",
   "metadata": {},
   "source": [
    "## Dynamics"
   ]
  },
  {
   "cell_type": "code",
   "execution_count": null,
   "metadata": {
    "id": "Ck_PcRnNIsD3"
   },
   "outputs": [],
   "source": [
    "dym = Dynamics(\n",
    "    wandb_logger=None, true_model=rossler_map_true, trained_model=trained_model, max_it=nb_steps\n",
    ")\n",
    "dym.add_traj(traj_true=traj_true, traj_pred=traj_pred)\n",
    "dym.compute_all()"
   ]
  },
  {
   "cell_type": "code",
   "execution_count": null,
   "metadata": {},
   "outputs": [],
   "source": []
  }
 ],
 "metadata": {
  "kernelspec": {
   "display_name": "rossler",
   "language": "python",
   "name": "rossler"
  },
  "language_info": {
   "codemirror_mode": {
    "name": "ipython",
    "version": 3
   },
   "file_extension": ".py",
   "mimetype": "text/x-python",
   "name": "python",
   "nbconvert_exporter": "python",
   "pygments_lexer": "ipython3",
   "version": "3.8.8"
  }
 },
 "nbformat": 4,
 "nbformat_minor": 4
}
